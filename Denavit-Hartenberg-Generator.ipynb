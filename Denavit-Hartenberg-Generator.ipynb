{
  "cells": [
    {
      "cell_type": "markdown",
      "metadata": {
        "id": "view-in-github",
        "colab_type": "text"
      },
      "source": [
        "<a href=\"https://colab.research.google.com/github/aandreigg/AACMM2023/blob/testing/Denavit-Hartenberg-Generator.ipynb\" target=\"_parent\"><img src=\"https://colab.research.google.com/assets/colab-badge.svg\" alt=\"Open In Colab\"/></a>"
      ]
    },
    {
      "cell_type": "code",
      "execution_count": null,
      "metadata": {
        "id": "7daFMyvdejIX"
      },
      "outputs": [],
      "source": [
        "import matplotlib.pyplot as plt\n",
        "from mpl_toolkits import mplot3d\n",
        "import numpy as np\n",
        "import tensorflow as tf\n",
        "from tensorflow import keras\n",
        "from tensorflow.keras import layers\n",
        "from keras.utils.vis_utils import plot_model\n",
        "from keras import metrics\n",
        "from keras.optimizers import RMSprop\n",
        "from sklearn.model_selection import train_test_split\n",
        "from sklearn.ensemble import RandomForestRegressor\n",
        "import pandas as pd\n",
        "#import pygame as pg\n",
        "import random as r\n",
        "import math as m\n",
        "from math import exp"
      ]
    },
    {
      "cell_type": "code",
      "execution_count": null,
      "metadata": {
        "id": "fK1XK_p4fGT4"
      },
      "outputs": [],
      "source": [
        "cloud_number = 10000 #Numero de posiciones para la red neuronal. \n",
        "DH_dataset = np.zeros((cloud_number,28), dtype = np.float64) #print(DH_dataset)"
      ]
    },
    {
      "cell_type": "code",
      "execution_count": null,
      "metadata": {
        "id": "F2MoRq5pfJ_D"
      },
      "outputs": [],
      "source": [
        "DOF = 6 #Degrees of freedom o grados de libertad del robot. \n",
        "a = np.zeros(DOF,dtype=np.float64)\n",
        "d = np.zeros(DOF,dtype=np.float64)\n",
        "alpha = np.zeros(DOF,dtype=np.float64)\n",
        "theta = np.zeros(DOF,dtype=np.float64)\n",
        "k= 0 "
      ]
    },
    {
      "cell_type": "code",
      "execution_count": null,
      "metadata": {
        "id": "mfLH-nc9fM3P"
      },
      "outputs": [],
      "source": [
        "a[1]=62.0000\n",
        "a[3]=62.0000\n",
        "d[0]=376.0000\n",
        "d[2]=751.0000\n",
        "d[4]=500.0000\n",
        "d[5]=15.0000\n",
        "alpha[0]=round(-m.pi/2,4) # Valores en radianes. (En este caso -90°)\n",
        "alpha[1]=round(-m.pi/2,4)\n",
        "alpha[2]=round(-m.pi/2,4)\n",
        "alpha[3]=round(-m.pi/2,4)\n",
        "alpha[4]=round(-m.pi/2,4)\n",
        "alpha[5]=round(m.pi/2,4)\n",
        "l=98.0000 #Dimension del punto final "
      ]
    },
    {
      "cell_type": "code",
      "execution_count": null,
      "metadata": {
        "colab": {
          "base_uri": "https://localhost:8080/"
        },
        "id": "--R4uNNhnMxO",
        "outputId": "03f78390-5592-45ae-f666-d7085bf23ede"
      },
      "outputs": [
        {
          "output_type": "stream",
          "name": "stdout",
          "text": [
            "-1.5708\n"
          ]
        }
      ],
      "source": [
        "print(alpha[0])"
      ]
    },
    {
      "cell_type": "code",
      "execution_count": null,
      "metadata": {
        "id": "4ZsJXreSfR4D"
      },
      "outputs": [],
      "source": [
        "for i in range(cloud_number): #Simulando los rangos de operación de las articulaciones. \n",
        "    cxyz = np.array([[0],[0],[l],[1]])\n",
        "    \n",
        "    DH_dataset[i][0]=round((r.randint(-180,180) * m.pi/180),4)\n",
        "    theta[0] = DH_dataset[i][0]\n",
        "    DH_dataset[i][1]=round((r.randint(-180,180) * m.pi/180),4)\n",
        "    theta[1] = DH_dataset[i][1]\n",
        "    DH_dataset[i][2]=round((r.randint(-180,180) * m.pi/180),4)\n",
        "    theta[2] = DH_dataset[i][2]\n",
        "    DH_dataset[i][3]=round((r.randint(-180,180) * m.pi/180),4)\n",
        "    theta[3] = DH_dataset[i][3]\n",
        "    DH_dataset[i][4]=round((r.randint(-180,180) * m.pi/180),4)\n",
        "    theta[4] = DH_dataset[i][4]\n",
        "    DH_dataset[i][5]=round((r.randint(-180,180) * m.pi/180),4)\n",
        "    theta[5] = DH_dataset[i][5]\n",
        "\n",
        "    DH_dataset[i][6:11] = a[0:5]\n",
        "    DH_dataset[i][12:17] = alpha[0:5]\n",
        "    DH_dataset[i][17] = alpha[5]\n",
        "    DH_dataset[i][18:23] = d[0:5] \n",
        "    DH_dataset[i][24] = l\n",
        "    \n",
        "    k=0\n",
        "    while(k<=DOF-1): # El orden de multiplicacion de las matrices si afecta el producto. \n",
        "        TDH = np.zeros(16,dtype=np.float64)\n",
        "        TDH[0] = m.cos(theta[k])\n",
        "        TDH[1] = -m.cos(alpha[k])*m.sin(theta[k])\n",
        "        TDH[2] = m.sin(alpha[k])*m.sin(theta[k])\n",
        "        TDH[3] = a[k]*m.cos(theta[k])\n",
        "        TDH[4] = m.sin(theta[k])\n",
        "        TDH[5] = m.cos(alpha[k])*m.cos(theta[k])\n",
        "        TDH[6] = -m.sin(alpha[k])*m.cos(theta[k])\n",
        "        TDH[7] = a[k]*m.sin(theta[k])\n",
        "        TDH[8] = 0\n",
        "        TDH[9] = m.sin(alpha[k])\n",
        "        TDH[10]= m.cos(alpha[k])\n",
        "        TDH[11]= d[k]\n",
        "        TDH[12]= 0\n",
        "        TDH[13]= 0\n",
        "        TDH[14]= 0\n",
        "        TDH[15]= 1\n",
        "        #Se acomoda de esta forma la matriz para poder emplear el comando \".dot\" de numpy.\n",
        "        TDH = TDH.reshape(4,4)\n",
        "        cxyz = np.dot(TDH,cxyz)\n",
        "        k+=1\n",
        "\n",
        "    \n",
        "    np.round(cxyz,4)\n",
        "    DH_dataset[i][25] = cxyz[0]    \n",
        "    DH_dataset[i][26] = cxyz[1]\n",
        "    DH_dataset[i][27] = cxyz[2]#print(cxyz)\n",
        "      "
      ]
    },
    {
      "cell_type": "code",
      "execution_count": null,
      "metadata": {
        "colab": {
          "base_uri": "https://localhost:8080/"
        },
        "id": "xivhJIqA5aQK",
        "outputId": "18a365b0-55c8-4468-bee0-42320b5118c1"
      },
      "outputs": [
        {
          "name": "stdout",
          "output_type": "stream",
          "text": [
            "[ 9.42500000e-01 -2.33870000e+00  1.75000000e-02 -3.07180000e+00\n",
            " -3.05430000e+00  8.73000000e-02  0.00000000e+00  6.20000000e+01\n",
            "  0.00000000e+00  6.20000000e+01  0.00000000e+00  0.00000000e+00\n",
            " -1.57080000e+00 -1.57080000e+00 -1.57080000e+00 -1.57080000e+00\n",
            " -1.57080000e+00  1.57080000e+00  3.76000000e+02  0.00000000e+00\n",
            "  7.51000000e+02  0.00000000e+00  5.00000000e+02  0.00000000e+00\n",
            "  9.80000000e+01  4.10026987e+02 -1.49133194e+03]\n"
          ]
        }
      ],
      "source": [
        "print(DH_dataset[0][0:27])\n"
      ]
    },
    {
      "cell_type": "code",
      "execution_count": null,
      "metadata": {
        "colab": {
          "base_uri": "https://localhost:8080/",
          "height": 297
        },
        "id": "FRK51Cf_hlRs",
        "outputId": "3a7954aa-d6f4-4c12-f3f6-04decc8300e8"
      },
      "outputs": [
        {
          "output_type": "display_data",
          "data": {
            "text/plain": [
              "<Figure size 432x288 with 1 Axes>"
            ],
            "image/png": "[encoded data removed]"
          },
          "metadata": {
            "needs_background": "light"
          }
        }
      ],
      "source": [
        "plt.rcParams[\"figure.autolayout\"] = True\n",
        "\n",
        "fig = plt.figure()\n",
        "ax = fig.add_subplot(111, projection='3d')\n",
        "\n",
        "for i in range(cloud_number):\n",
        "    ax.scatter(DH_dataset[i][25],DH_dataset[i][26],DH_dataset[i][27], c='red')\n",
        "\n",
        "\n",
        "DH_dataset = pd.DataFrame(DH_dataset, columns = ['T1','T2','T3','T4','T5','T6','a0','a1','a2','a3','a4','a5','al0','al1','al2','al3','al4','al5'\n",
        ",'d0','d1','d2','d3','d4','d5','l','X1','Y2','Z3']) #print(DH_dataset) "
      ]
    },
    {
      "cell_type": "code",
      "execution_count": null,
      "metadata": {
        "colab": {
          "base_uri": "https://localhost:8080/",
          "height": 17
        },
        "id": "I1_dqlDtguVu",
        "outputId": "26420289-ddd4-4d8d-fee3-eccadca0a2d6"
      },
      "outputs": [
        {
          "output_type": "display_data",
          "data": {
            "text/plain": [
              "<IPython.core.display.Javascript object>"
            ],
            "application/javascript": [
              "\n",
              "    async function download(id, filename, size) {\n",
              "      if (!google.colab.kernel.accessAllowed) {\n",
              "        return;\n",
              "      }\n",
              "      const div = document.createElement('div');\n",
              "      const label = document.createElement('label');\n",
              "      label.textContent = `Downloading \"${filename}\": `;\n",
              "      div.appendChild(label);\n",
              "      const progress = document.createElement('progress');\n",
              "      progress.max = size;\n",
              "      div.appendChild(progress);\n",
              "      document.body.appendChild(div);\n",
              "\n",
              "      const buffers = [];\n",
              "      let downloaded = 0;\n",
              "\n",
              "      const channel = await google.colab.kernel.comms.open(id);\n",
              "      // Send a message to notify the kernel that we're ready.\n",
              "      channel.send({})\n",
              "\n",
              "      for await (const message of channel.messages) {\n",
              "        // Send a message to notify the kernel that we're ready.\n",
              "        channel.send({})\n",
              "        if (message.buffers) {\n",
              "          for (const buffer of message.buffers) {\n",
              "            buffers.push(buffer);\n",
              "            downloaded += buffer.byteLength;\n",
              "            progress.value = downloaded;\n",
              "          }\n",
              "        }\n",
              "      }\n",
              "      const blob = new Blob(buffers, {type: 'application/binary'});\n",
              "      const a = document.createElement('a');\n",
              "      a.href = window.URL.createObjectURL(blob);\n",
              "      a.download = filename;\n",
              "      div.appendChild(a);\n",
              "      a.click();\n",
              "      div.remove();\n",
              "    }\n",
              "  "
            ]
          },
          "metadata": {}
        },
        {
          "output_type": "display_data",
          "data": {
            "text/plain": [
              "<IPython.core.display.Javascript object>"
            ],
            "application/javascript": [
              "download(\"download_92581f5b-df54-41e3-a117-013446bc6ed3\", \"sample.csv\", 2136241)"
            ]
          },
          "metadata": {}
        }
      ],
      "source": [
        "DH_dataset.to_csv('sample.csv')\n",
        "from google.colab import files\n",
        "files.download(\"sample.csv\")"
      ]
    },
    {
      "cell_type": "code",
      "execution_count": null,
      "metadata": {
        "id": "eA6goibOg9B6"
      },
      "outputs": [],
      "source": []
    }
  ],
  "metadata": {
    "colab": {
      "provenance": [],
      "include_colab_link": true
    },
    "kernelspec": {
      "display_name": "Python 3 (ipykernel)",
      "language": "python",
      "name": "python3"
    },
    "language_info": {
      "codemirror_mode": {
        "name": "ipython",
        "version": 3
      },
      "file_extension": ".py",
      "mimetype": "text/x-python",
      "name": "python",
      "nbconvert_exporter": "python",
      "pygments_lexer": "ipython3",
      "version": "3.9.13"
    }
  },
  "nbformat": 4,
  "nbformat_minor": 0
}